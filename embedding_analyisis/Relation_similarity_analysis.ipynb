{
 "cells": [
  {
   "cell_type": "markdown",
   "metadata": {},
   "source": [
    "# DRKG Relation Embedding Similarity Analysis\n",
    "This nodebook shows how to analyze the trained relation embeddings. \n",
    "\n",
    "In this example, we first load the trained embeddings and map them back into original relation names. And then apply three methodologies to analyze these embeddings:\n",
    " - Project the embeddings into low dimension space and visualize their distribution.\n",
    " - Use cosine distance to analyze the similarity between each relation.\n",
    " - Use frobenius distance to analyze the similarity between each relation."
   ]
  },
  {
   "cell_type": "code",
   "execution_count": 1,
   "metadata": {},
   "outputs": [],
   "source": [
    "import pandas as pd\n",
    "import numpy as np\n",
    "import os\n",
    "import csv"
   ]
  },
  {
   "cell_type": "markdown",
   "metadata": {},
   "source": [
    "## Loading Relation ID Mapping"
   ]
  },
  {
   "cell_type": "code",
   "execution_count": 2,
   "metadata": {},
   "outputs": [
    {
     "name": "stdout",
     "output_type": "stream",
     "text": [
      "Number of relations: 106\n"
     ]
    }
   ],
   "source": [
    "rel2id = {}\n",
    "id2rel = {}\n",
    "with open(\"./train/relations.tsv\", newline='', encoding='utf-8') as csvfile:\n",
    "    reader = csv.DictReader(csvfile, delimiter='\\t', fieldnames=['rel','id'])\n",
    "    for row_val in reader:\n",
    "        id = row_val['id']\n",
    "        relation = row_val['rel']\n",
    "\n",
    "        rel2id[relation] = int(id)\n",
    "        id2rel[int(id)] = relation\n",
    "\n",
    "print(\"Number of relations: {}\".format(len(rel2id)))"
   ]
  },
  {
   "cell_type": "markdown",
   "metadata": {},
   "source": [
    "## Loading Relation Embeddings"
   ]
  },
  {
   "cell_type": "code",
   "execution_count": 3,
   "metadata": {},
   "outputs": [
    {
     "name": "stdout",
     "output_type": "stream",
     "text": [
      "(106, 400)\n"
     ]
    }
   ],
   "source": [
    "rel_emb = np.load('./ckpts/TransE_l2_DRKG_0/DRKG_TransE_l2_relation.npy')\n",
    "print(rel_emb.shape)"
   ]
  },
  {
   "cell_type": "markdown",
   "metadata": {},
   "source": [
    "## General Relation Embedding Clustering\n",
    "Here we use t-SNE to convert relation embeddings into low dimension space and visualize their distribution."
   ]
  },
  {
   "cell_type": "code",
   "execution_count": 5,
   "metadata": {},
   "outputs": [
    {
     "data": {
      "image/png": "[encoded data removed]",
      "text/plain": [
       "<Figure size 432x288 with 1 Axes>"
      ]
     },
     "metadata": {
      "needs_background": "light"
     },
     "output_type": "display_data"
    }
   ],
   "source": [
    "from matplotlib import cm\n",
    "import matplotlib.pyplot as plt\n",
    "from sklearn.utils import check_random_state\n",
    "from sklearn.manifold import TSNE\n",
    "\n",
    "dataset_id = {}\n",
    "for rel_name, i in rel2id.items():\n",
    "    rel_key = rel_name.split('::')[0]\n",
    "    if dataset_id.get(rel_key, None) is None:\n",
    "        dataset_id[rel_key] = []\n",
    "    dataset_id[rel_key].append(i)\n",
    "\n",
    "X_embedded = TSNE(n_components=2).fit_transform(rel_emb).T\n",
    "p = cm.rainbow(int(255/2 * 1))\n",
    "for key, val in dataset_id.items():\n",
    "    val = np.asarray(val, dtype=np.long)\n",
    "\n",
    "    plt.plot(X_embedded[0][val], X_embedded[1][val], '.', label=key)\n",
    "    plt.legend(bbox_to_anchor=(0, 0, 1.55, 0.75))\n",
    "\n",
    "plt.show()"
   ]
  },
  {
   "cell_type": "markdown",
   "metadata": {},
   "source": [
    "## Pair-wise Relation Embedding Cosine Similarity\n",
    "We calculate the pair-wise embedding similarity using cosine distance and output the top10 most similar pairs."
   ]
  },
  {
   "cell_type": "code",
   "execution_count": 6,
   "metadata": {},
   "outputs": [
    {
     "data": {
      "text/plain": [
       "[('GNBR::E::Compound:Gene', 'GNBR::K::Compound:Gene', 0.9825326),\n",
       " ('GNBR::E::Compound:Gene', 'GNBR::E+::Compound:Gene', 0.9790014),\n",
       " ('GNBR::E::Compound:Gene', 'GNBR::E-::Compound:Gene', 0.96299565),\n",
       " ('GNBR::N::Compound:Gene', 'GNBR::E-::Compound:Gene', 0.9628843),\n",
       " ('GNBR::K::Compound:Gene', 'GNBR::E+::Compound:Gene', 0.94823027),\n",
       " ('GNBR::E+::Compound:Gene', 'GNBR::E-::Compound:Gene', 0.9462117),\n",
       " ('GNBR::L::Gene:Disease', 'GNBR::G::Gene:Disease', 0.9400382),\n",
       " ('GNBR::J::Gene:Disease', 'GNBR::Te::Gene:Disease', 0.93304324),\n",
       " ('GNBR::K::Compound:Gene', 'GNBR::E-::Compound:Gene', 0.93287563),\n",
       " ('GNBR::J::Gene:Disease', 'GNBR::Md::Gene:Disease', 0.93212605)]"
      ]
     },
     "execution_count": 6,
     "metadata": {},
     "output_type": "execute_result"
    }
   ],
   "source": [
    "from sklearn.metrics.pairwise import cosine_similarity\n",
    "\n",
    "similarity = cosine_similarity(rel_emb)\n",
    "idx = np.flip(np.argsort(similarity), axis=1)\n",
    "\n",
    "max_pairs = []\n",
    "for i in range(idx.shape[0]):\n",
    "    j = 1\n",
    "    while (similarity[i][idx[i][j]] > 0.9):\n",
    "        max_pairs.append((id2rel[idx[i][0]], id2rel[idx[i][j]], similarity[i][idx[i][j]]))\n",
    "        j += 1\n",
    "\n",
    "def sort_score(pair):\n",
    "    return pair[2]\n",
    "\n",
    "max_pairs.sort(reverse=True, key=sort_score)\n",
    "sim_pairs = []\n",
    "for i, pair in enumerate(max_pairs):\n",
    "    if i % 2 == 0:\n",
    "        sim_pairs.append(pair)\n",
    "\n",
    "sim_pairs[:10]"
   ]
  },
  {
   "cell_type": "markdown",
   "metadata": {},
   "source": [
    "Then we draw a histogram of how the pair-wise similarity score distributed."
   ]
  },
  {
   "cell_type": "code",
   "execution_count": 9,
   "metadata": {},
   "outputs": [
    {
     "name": "stdout",
     "output_type": "stream",
     "text": [
      "(11236,)\n"
     ]
    },
    {
     "data": {
      "image/png": "[encoded data removed]",
      "text/plain": [
       "<Figure size 432x288 with 1 Axes>"
      ]
     },
     "metadata": {
      "needs_background": "light"
     },
     "output_type": "display_data"
    }
   ],
   "source": [
    "similarity=similarity.flatten()\n",
    "print(similarity.shape)\n",
    "\n",
    "# cleanup self-compare and dup-compare\n",
    "s = similarity < 0.99\n",
    "s = np.unique(similarity[s])\n",
    "plt.xlabel('Cosine similarity')\n",
    "plt.ylabel('Number of relation pairs')\n",
    "plt.hist(s)\n",
    "plt.show()"
   ]
  },
  {
   "cell_type": "markdown",
   "metadata": {},
   "source": [
    "## Pair-wise Relation Embedding Frobenius Similarity\n",
    "We calculate the pair-wise embedding similarity using L2 distance and output the top10 most similar pairs."
   ]
  },
  {
   "cell_type": "code",
   "execution_count": 10,
   "metadata": {},
   "outputs": [
    {
     "data": {
      "text/plain": [
       "[('GNBR::E::Compound:Gene', 'GNBR::K::Compound:Gene', 1.8725957),\n",
       " ('GNBR::E::Compound:Gene', 'GNBR::E+::Compound:Gene', 2.037919),\n",
       " ('GNBR::N::Compound:Gene', 'GNBR::E-::Compound:Gene', 2.605539),\n",
       " ('GNBR::E::Compound:Gene', 'GNBR::E-::Compound:Gene', 2.6699512),\n",
       " ('GNBR::K::Compound:Gene', 'GNBR::E+::Compound:Gene', 3.2253091),\n",
       " ('GNBR::E+::Compound:Gene', 'GNBR::E-::Compound:Gene', 3.2350895),\n",
       " ('GNBR::L::Gene:Disease', 'GNBR::G::Gene:Disease', 3.4676633),\n",
       " ('GNBR::J::Gene:Disease', 'GNBR::Te::Gene:Disease', 3.587521),\n",
       " ('GNBR::J::Gene:Disease', 'GNBR::Md::Gene:Disease', 3.5969605),\n",
       " ('GNBR::K::Compound:Gene', 'GNBR::E-::Compound:Gene', 3.6342802)]"
      ]
     },
     "execution_count": 10,
     "metadata": {},
     "output_type": "execute_result"
    }
   ],
   "source": [
    "from sklearn.metrics.pairwise import euclidean_distances\n",
    "\n",
    "similarity = euclidean_distances(rel_emb)\n",
    "idx = np.argsort(similarity)\n",
    "\n",
    "min_pairs = []\n",
    "for i in range(idx.shape[0]):\n",
    "    j = 1\n",
    "    while (similarity[i][idx[i][j]] < 5):\n",
    "        min_pairs.append((id2rel[idx[i][0]], id2rel[idx[i][j]], similarity[i][idx[i][j]]))\n",
    "        j += 1\n",
    "\n",
    "def sort_score(pair):\n",
    "    return pair[2]\n",
    "\n",
    "min_pairs.sort(key=sort_score)\n",
    "sim_pairs = []\n",
    "for i, pair in enumerate(min_pairs):\n",
    "    if i % 2 == 0:\n",
    "        sim_pairs.append(pair)\n",
    "\n",
    "sim_pairs[:10]"
   ]
  },
  {
   "cell_type": "markdown",
   "metadata": {},
   "source": [
    "Then we draw a histogram of how the pair-wise distance score distributed."
   ]
  },
  {
   "cell_type": "code",
   "execution_count": 12,
   "metadata": {},
   "outputs": [
    {
     "name": "stdout",
     "output_type": "stream",
     "text": [
      "(11236,)\n"
     ]
    },
    {
     "data": {
      "image/png": "[encoded data removed]",
      "text/plain": [
       "<Figure size 432x288 with 1 Axes>"
      ]
     },
     "metadata": {
      "needs_background": "light"
     },
     "output_type": "display_data"
    }
   ],
   "source": [
    "similarity=similarity.flatten()\n",
    "print(similarity.shape)\n",
    "\n",
    "# cleanup self-compare and dup-compare\n",
    "s = similarity > 0\n",
    "s = np.unique(similarity[s])\n",
    "plt.xlabel('Frobenius Distance')\n",
    "plt.ylabel('Number of relation pairs')\n",
    "plt.hist(s)\n",
    "plt.show()"
   ]
  },
  {
   "cell_type": "code",
   "execution_count": null,
   "metadata": {},
   "outputs": [],
   "source": []
  }
 ],
 "metadata": {
  "kernelspec": {
   "display_name": "Python 3",
   "language": "python",
   "name": "python3"
  },
  "language_info": {
   "codemirror_mode": {
    "name": "ipython",
    "version": 3
   },
   "file_extension": ".py",
   "mimetype": "text/x-python",
   "name": "python",
   "nbconvert_exporter": "python",
   "pygments_lexer": "ipython3",
   "version": "3.6.9"
  }
 },
 "nbformat": 4,
 "nbformat_minor": 2
}
