{
 "cells": [
  {
   "cell_type": "markdown",
   "metadata": {},
   "source": [
    "# COVID-19 Drug Repurposing via gene-compounds relations\n",
    "This example shows how to do drug repurposing using DRKG even with the pretrained model."
   ]
  },
  {
   "cell_type": "markdown",
   "metadata": {},
   "source": [
    "## Collecting COVID-19 related disease\n",
    "At the very beginning we need to collect a list of associated genes for Corona-Virus(COV) in DRKG. "
   ]
  },
  {
   "cell_type": "code",
   "execution_count": 1,
   "metadata": {},
   "outputs": [
    {
     "name": "stdout",
     "output_type": "stream",
     "text": [
      "442\n"
     ]
    }
   ],
   "source": [
    "import pandas as pd\n",
    "import numpy as np\n",
    "file='coronavirus-related-host-genes.tsv'\n",
    "df = pd.read_csv(file, sep=\"\\t\")\n",
    "cov_genes = np.unique(df.values[:,2]).tolist()\n",
    "file='coronavirus-host-genes.tsv'\n",
    "df = pd.read_csv(file, sep=\"\\t\")\n",
    "cov2_genes = np.unique(df.values[:,2]).tolist()\n",
    "# keep unique related genes\n",
    "\n",
    "cov_related_genes=list(set(cov_genes+cov2_genes))\n",
    "#cov_related_genes=list(set(cov2_genes))\n",
    "print(len(cov_related_genes))"
   ]
  },
  {
   "cell_type": "markdown",
   "metadata": {},
   "source": [
    "## Candidate drugs\n",
    "Now we use FDA-approved drugs in Drugbank as candidate drugs. (we exclude drugs with molecule weight < 250) The drug list is in infer\\_drug.tsv"
   ]
  },
  {
   "cell_type": "code",
   "execution_count": 2,
   "metadata": {},
   "outputs": [],
   "source": [
    "import csv\n",
    "\n",
    "# Load entity file\n",
    "drug_list = []\n",
    "with open(\"./infer_drug.tsv\", newline='', encoding='utf-8') as csvfile:\n",
    "    reader = csv.DictReader(csvfile, delimiter='\\t', fieldnames=['drug','ids'])\n",
    "    for row_val in reader:\n",
    "        drug_list.append(row_val['drug'])"
   ]
  },
  {
   "cell_type": "code",
   "execution_count": 3,
   "metadata": {},
   "outputs": [
    {
     "data": {
      "text/plain": [
       "8104"
      ]
     },
     "execution_count": 3,
     "metadata": {},
     "output_type": "execute_result"
    }
   ],
   "source": [
    "len(drug_list)"
   ]
  },
  {
   "cell_type": "markdown",
   "metadata": {},
   "source": [
    "## Inhibits relation"
   ]
  },
  {
   "cell_type": "markdown",
   "metadata": {},
   "source": [
    "One inhibit relation in this context"
   ]
  },
  {
   "cell_type": "code",
   "execution_count": 4,
   "metadata": {},
   "outputs": [],
   "source": [
    "treatment = ['GNBR::N::Compound:Gene']#'DRUGBANK::target::Compound:Gene','DGIDB::INHIBITOR::Gene:Compound']"
   ]
  },
  {
   "cell_type": "markdown",
   "metadata": {},
   "source": [
    "## Get pretrained model\n",
    "We can directly use the pretrianed model to do drug repurposing."
   ]
  },
  {
   "cell_type": "code",
   "execution_count": 5,
   "metadata": {},
   "outputs": [],
   "source": [
    "import pandas as pd\n",
    "import numpy as np\n",
    "import sys\n",
    "import csv\n",
    "sys.path.insert(1, '../utils')\n",
    "from utils import download_and_extract\n",
    "download_and_extract()"
   ]
  },
  {
   "cell_type": "code",
   "execution_count": 6,
   "metadata": {},
   "outputs": [],
   "source": [
    "entity_idmap_file = '../data/drkg/embed/entities.tsv'\n",
    "relation_idmap_file = '../data/drkg/embed/relations.tsv'"
   ]
  },
  {
   "cell_type": "markdown",
   "metadata": {},
   "source": [
    "## Get embeddings for genes and drugs"
   ]
  },
  {
   "cell_type": "code",
   "execution_count": 7,
   "metadata": {},
   "outputs": [],
   "source": [
    "# Get drugname/disease name to entity ID mappings\n",
    "entity_map = {}\n",
    "entity_id_map = {}\n",
    "relation_map = {}\n",
    "with open(entity_idmap_file, newline='', encoding='utf-8') as csvfile:\n",
    "    reader = csv.DictReader(csvfile, delimiter='\\t', fieldnames=['name','id'])\n",
    "    for row_val in reader:\n",
    "        entity_map[row_val['name']] = int(row_val['id'])\n",
    "        entity_id_map[int(row_val['id'])] = row_val['name']\n",
    "        \n",
    "with open(relation_idmap_file, newline='', encoding='utf-8') as csvfile:\n",
    "    reader = csv.DictReader(csvfile, delimiter='\\t', fieldnames=['name','id'])\n",
    "    for row_val in reader:\n",
    "        relation_map[row_val['name']] = int(row_val['id'])\n",
    "        \n",
    "# handle the ID mapping\n",
    "drug_ids = []\n",
    "gene_ids = []\n",
    "for drug in drug_list:\n",
    "    drug_ids.append(entity_map[drug])\n",
    "    \n",
    "for gene in cov_related_genes:\n",
    "    gene_ids.append(entity_map[gene])\n",
    "\n",
    "treatment_rid = [relation_map[treat]  for treat in treatment]"
   ]
  },
  {
   "cell_type": "code",
   "execution_count": 8,
   "metadata": {},
   "outputs": [],
   "source": [
    "# Load embeddings\n",
    "import torch as th\n",
    "entity_emb = np.load('../data/drkg/embed/DRKG_TransE_l2_entity.npy')\n",
    "rel_emb = np.load('../data/drkg/embed/DRKG_TransE_l2_relation.npy')\n",
    "\n",
    "drug_ids = th.tensor(drug_ids).long()\n",
    "gene_ids = th.tensor(gene_ids).long()\n",
    "treatment_rid = th.tensor(treatment_rid)\n",
    "\n",
    "drug_emb = th.tensor(entity_emb[drug_ids])\n",
    "treatment_embs = [th.tensor(rel_emb[rid]) for rid in treatment_rid]"
   ]
  },
  {
   "cell_type": "markdown",
   "metadata": {},
   "source": [
    "## Drug Repurposing Based on Edge Score\n",
    "We use following algorithm to calculate the edge score. Note, here we use logsigmiod to make all scores < 0. The larger the score is, the stronger the $h$ will have $r$ with $t$.\n",
    "\n",
    "$\\mathbf{d} = \\gamma - ||\\mathbf{h}+\\mathbf{r}-\\mathbf{t}||_{2}$\n",
    "\n",
    "$\\mathbf{score} = \\log\\left(\\frac{1}{1+\\exp(\\mathbf{-d})}\\right)$\n",
    "\n",
    "When doing drug repurposing, we only use the treatment related relations."
   ]
  },
  {
   "cell_type": "code",
   "execution_count": 9,
   "metadata": {},
   "outputs": [],
   "source": [
    "import torch.nn.functional as fn\n",
    "\n",
    "gamma=12.0\n",
    "def transE_l2(head, rel, tail):\n",
    "    score = head + rel - tail\n",
    "    return gamma - th.norm(score, p=2, dim=-1)\n",
    "\n",
    "scores_per_gene = []\n",
    "dids_per_gene = []\n",
    "for rid in range(len(treatment_embs)):\n",
    "    treatment_emb=treatment_embs[rid]\n",
    "    for gene_id in gene_ids:\n",
    "        gene_emb = th.tensor(entity_emb[gene_id])\n",
    "        if treatment[rid]=='DGIDB::INHIBITOR::Gene:Compound':\n",
    "            score = fn.logsigmoid(transE_l2(gene_emb, treatment_emb,\n",
    "                                        drug_emb))\n",
    "        else:\n",
    "            score = fn.logsigmoid(transE_l2(drug_emb, treatment_emb,\n",
    "                                            gene_emb))\n",
    "        scores_per_gene.append(score)\n",
    "        dids_per_gene.append(drug_ids)\n",
    "scores = th.cat(scores_per_gene)\n",
    "dids = th.cat(dids_per_gene)\n"
   ]
  },
  {
   "cell_type": "code",
   "execution_count": 10,
   "metadata": {},
   "outputs": [],
   "source": [
    "# sort scores in decending order\n",
    "idx = th.flip(th.argsort(scores), dims=[0])\n",
    "scores = scores[idx].numpy()\n",
    "dids = dids[idx].numpy()"
   ]
  },
  {
   "cell_type": "markdown",
   "metadata": {},
   "source": [
    "### Now we output proposed treatments"
   ]
  },
  {
   "cell_type": "code",
   "execution_count": 11,
   "metadata": {},
   "outputs": [],
   "source": [
    "_, unique_indices = np.unique(dids, return_index=True)\n",
    "topk=100\n",
    "topk_indices = np.sort(unique_indices)[:topk]\n",
    "proposed_dids = dids[topk_indices]\n",
    "proposed_scores = scores[topk_indices]"
   ]
  },
  {
   "cell_type": "markdown",
   "metadata": {},
   "source": [
    "Now we list the pairs of in form of (drug, treat, disease, score) \n",
    "\n",
    "We select top K relevent drugs according the edge score"
   ]
  },
  {
   "cell_type": "code",
   "execution_count": 12,
   "metadata": {},
   "outputs": [
    {
     "name": "stdout",
     "output_type": "stream",
     "text": [
      "Compound::DB15323\t-0.05817325785756111\n",
      "Compound::DB12191\t-0.06642640382051468\n",
      "Compound::DB04912\t-0.07098878175020218\n",
      "Compound::DB02073\t-0.08191803097724915\n",
      "Compound::DB12340\t-0.08561192452907562\n",
      "Compound::DB04315\t-0.0862516537308693\n",
      "Compound::DB11861\t-0.087680384516716\n",
      "Compound::DB12116\t-0.08771445602178574\n",
      "Compound::DB13877\t-0.0918525829911232\n",
      "Compound::DB04297\t-0.09698455780744553\n",
      "Compound::DB05513\t-0.09903170168399811\n",
      "Compound::DB01950\t-0.10262279212474823\n",
      "Compound::DB04216\t-0.10506419092416763\n",
      "Compound::DB04540\t-0.10611333698034286\n",
      "Compound::DB00143\t-0.11516739428043365\n",
      "Compound::DB07352\t-0.11904025077819824\n",
      "Compound::DB02656\t-0.12059009820222855\n",
      "Compound::DB05983\t-0.12161634117364883\n",
      "Compound::DB14849\t-0.12193559855222702\n",
      "Compound::DB00682\t-0.12239568680524826\n",
      "Compound::DB01645\t-0.12395994365215302\n",
      "Compound::DB00917\t-0.12494569271802902\n",
      "Compound::DB04137\t-0.12573380768299103\n",
      "Compound::DB00997\t-0.1260213851928711\n",
      "Compound::DB11911\t-0.12954790890216827\n",
      "Compound::DB11672\t-0.13039164245128632\n",
      "Compound::DB06521\t-0.1305067241191864\n",
      "Compound::DB01229\t-0.13055506348609924\n",
      "Compound::DB08855\t-0.13132768869400024\n",
      "Compound::DB12672\t-0.1350499540567398\n",
      "Compound::DB04786\t-0.13708879053592682\n",
      "Compound::DB02659\t-0.14097483456134796\n",
      "Compound::DB11793\t-0.14269493520259857\n",
      "Compound::DB04331\t-0.14280696213245392\n",
      "Compound::DB01045\t-0.14310011267662048\n",
      "Compound::DB06188\t-0.14310124516487122\n",
      "Compound::DB00877\t-0.1473260372877121\n",
      "Compound::DB00515\t-0.15021370351314545\n",
      "Compound::DB07374\t-0.15450218319892883\n",
      "Compound::DB12378\t-0.15475118160247803\n",
      "Compound::DB15584\t-0.1550988256931305\n",
      "Compound::DB03991\t-0.15749357640743256\n",
      "Compound::DB01234\t-0.15915653109550476\n",
      "Compound::DB01065\t-0.1618524193763733\n",
      "Compound::DB04557\t-0.16204312443733215\n",
      "Compound::DB00755\t-0.16265706717967987\n",
      "Compound::DB11581\t-0.16324037313461304\n",
      "Compound::DB01933\t-0.16640907526016235\n",
      "Compound::DB00773\t-0.1666247546672821\n",
      "Compound::DB04566\t-0.16682736575603485\n",
      "Compound::DB06641\t-0.16687175631523132\n",
      "Compound::DB06618\t-0.16881699860095978\n",
      "Compound::DB02169\t-0.16971425712108612\n",
      "Compound::DB09341\t-0.17451228201389313\n",
      "Compound::DB12271\t-0.17559479176998138\n",
      "Compound::DB14128\t-0.17644302546977997\n",
      "Compound::DB00171\t-0.17840975522994995\n",
      "Compound::DB05197\t-0.17870640754699707\n",
      "Compound::DB11797\t-0.17879363894462585\n",
      "Compound::DB00563\t-0.17979753017425537\n",
      "Compound::DB04115\t-0.18025535345077515\n",
      "Compound::DB04690\t-0.1807703822851181\n",
      "Compound::DB03467\t-0.1820744127035141\n",
      "Compound::DB11762\t-0.18469759821891785\n",
      "Compound::DB05134\t-0.1854669451713562\n",
      "Compound::DB01051\t-0.186212956905365\n",
      "Compound::DB04703\t-0.18704916536808014\n",
      "Compound::DB00641\t-0.1880692094564438\n",
      "Compound::DB15588\t-0.18932007253170013\n",
      "Compound::DB02010\t-0.19059693813323975\n",
      "Compound::DB07795\t-0.1906895488500595\n",
      "Compound::DB06335\t-0.19124560058116913\n",
      "Compound::DB03496\t-0.19497042894363403\n",
      "Compound::DB00441\t-0.19656522572040558\n",
      "Compound::DB00694\t-0.1972944736480713\n",
      "Compound::DB08515\t-0.19976837933063507\n",
      "Compound::DB03258\t-0.19992797076702118\n",
      "Compound::DB02527\t-0.20059674978256226\n",
      "Compound::DB01261\t-0.20063284039497375\n",
      "Compound::DB01752\t-0.20093253254890442\n",
      "Compound::DB00328\t-0.2010289579629898\n",
      "Compound::DB00091\t-0.20177631080150604\n",
      "Compound::DB02285\t-0.20212912559509277\n",
      "Compound::DB04866\t-0.2022200971841812\n",
      "Compound::DB08382\t-0.20346038043498993\n",
      "Compound::DB01109\t-0.2036052942276001\n",
      "Compound::DB00783\t-0.20719221234321594\n",
      "Compound::DB04310\t-0.2073216587305069\n",
      "Compound::DB00305\t-0.20945857465267181\n",
      "Compound::DB02375\t-0.2103583663702011\n",
      "Compound::DB01204\t-0.21095649898052216\n",
      "Compound::DB00624\t-0.21115264296531677\n",
      "Compound::DB06401\t-0.21226680278778076\n",
      "Compound::DB00675\t-0.21290896832942963\n",
      "Compound::DB15581\t-0.21322686970233917\n",
      "Compound::DB00586\t-0.21631227433681488\n",
      "Compound::DB00958\t-0.21632102131843567\n",
      "Compound::DB06203\t-0.21662084758281708\n",
      "Compound::DB12028\t-0.21753618121147156\n",
      "Compound::DB12021\t-0.2176664024591446\n"
     ]
    }
   ],
   "source": [
    "for i in range(topk):\n",
    "    drug = int(proposed_dids[i])\n",
    "    score = proposed_scores[i]\n",
    "    print(\"{}\\t{}\".format(entity_id_map[drug], score))"
   ]
  },
  {
   "cell_type": "markdown",
   "metadata": {},
   "source": [
    "### Check Clinial Trial Drugs\n",
    "There are seven clinial trial drugs hit in top100. (Note: Ribavirin exists in DRKG as a treatment for SARS)"
   ]
  },
  {
   "cell_type": "code",
   "execution_count": 13,
   "metadata": {},
   "outputs": [
    {
     "name": "stdout",
     "output_type": "stream",
     "text": [
      "[42]Dexamethasone\n"
     ]
    }
   ],
   "source": [
    "clinical_drugs_file = './COVID19_clinical_trial_drugs.tsv'\n",
    "clinical_drug_map = {}\n",
    "with open(clinical_drugs_file, newline='', encoding='utf-8') as csvfile:\n",
    "    reader = csv.DictReader(csvfile, delimiter='\\t', fieldnames=['id', 'drug_name','drug_id'])\n",
    "    for row_val in reader:\n",
    "        clinical_drug_map[row_val['drug_id']] = row_val['drug_name']\n",
    "        \n",
    "for i in range(topk):\n",
    "    drug = entity_id_map[int(proposed_dids[i])][10:17]\n",
    "    if clinical_drug_map.get(drug, None) is not None:\n",
    "        score = proposed_scores[i]\n",
    "        print(\"[{}]{}\".format(i, clinical_drug_map[drug]))"
   ]
  },
  {
   "cell_type": "markdown",
   "metadata": {},
   "source": [
    "### Check clinical trial drugs per gene"
   ]
  },
  {
   "cell_type": "code",
   "execution_count": 14,
   "metadata": {},
   "outputs": [],
   "source": [
    "clinical_drugs_file = './COVID19_clinical_trial_drugs.tsv'\n",
    "clinical_drug_map = {}\n",
    "with open(clinical_drugs_file, newline='', encoding='utf-8') as csvfile:\n",
    "    reader = csv.DictReader(csvfile, delimiter='\\t', fieldnames=['id', 'drug_name','drug_id'])\n",
    "    for row_val in reader:\n",
    "        clinical_drug_map[row_val['drug_id']] = row_val['drug_name']"
   ]
  },
  {
   "cell_type": "code",
   "execution_count": 19,
   "metadata": {
    "scrolled": true
   },
   "outputs": [
    {
     "name": "stdout",
     "output_type": "stream",
     "text": [
      "Gene::339390\t9\t[2]Ribavirin [21]Colchicine [22]Dexamethasone [46]Ruxolitinib [54]Baricitinib [78]Hydroxychloroquine [82]Thalidomide [90]Deferoxamine [97]Chloroquine \n",
      "DB00811\tRibavirin\t131\t3.773326919996868\n",
      "DB01041\tThalidomide\t317\t7.843768323138866\n",
      "DB01394\tColchicine\t234\t5.6190273043456775\n",
      "DB00608\tChloroquine\t161\t2.5888498933679713\n",
      "DB01234\tDexamethasone\t387\t17.529038200671174\n",
      "DB00959\tMethylprednisolone\t114\t1.8046014460089117\n",
      "DB08877\tRuxolitinib\t100\t1.7405444030918704\n",
      "DB08895\tTofacitinib\t35\t0.47695038357523656\n",
      "DB00678\tLosartan\t50\t1.1346896741650954\n",
      "DB00746\tDeferoxamine\t97\t2.018266951717295\n",
      "DB11817\tBaricitinib\t3\t0.04298385015552205\n",
      "DB01611\tHydroxychloroquine\t8\t0.13085079135396402\n",
      "DB14066\tTetrandrine\t1\t0.010638297872340425\n",
      "DB00198\tOseltamivir\t4\t0.20704613984183873\n",
      "DB00207\tAzithromycin\t1\t0.013333333333333334\n",
      "DB05511\tPiclidenoson\t1\t0.2\n"
     ]
    }
   ],
   "source": [
    "maxhit=0\n",
    "drugs_in_top_k={}\n",
    "drugsfr_in_top_k={}\n",
    "for i in range(len(scores_per_gene)):\n",
    "    score=scores_per_gene[i]\n",
    "    did=dids_per_gene[i]\n",
    "    idx = th.flip(th.argsort(score), dims=[0])\n",
    "    score = score[idx].numpy()\n",
    "    did = did[idx].numpy()\n",
    "    #print(did)\n",
    "    _, unique_indices = np.unique(did, return_index=True)\n",
    "    topk=100\n",
    "    topk_indices = np.sort(unique_indices)[:topk]\n",
    "    proposed_did = did[topk_indices]\n",
    "    proposed_score = score[topk_indices]\n",
    "    found_in_top_k=0\n",
    "    found_drugs=\"\"\n",
    "    for j in range(topk):\n",
    "        drug = entity_id_map[int(proposed_did[j])][10:17]\n",
    "        if clinical_drug_map.get(drug, None) is not None:\n",
    "            found_in_top_k+=1\n",
    "            score = proposed_score[j]\n",
    "            if drug in drugs_in_top_k:\n",
    "                drugs_in_top_k[drug]+=1\n",
    "                drugsfr_in_top_k[drug]+=1/(j+1)\n",
    "            else:\n",
    "                drugs_in_top_k[drug]=1\n",
    "                drugsfr_in_top_k[drug]=1/(j+1)\n",
    "            found_drugs+=\"[{}]{} \".format(j, clinical_drug_map[drug])\n",
    "            #print(\"[{}]{}\".format(j, clinical_drug_map[drug]))\n",
    "    #print(\"{}\\t{}\".format(cov_related_genes[i], found_in_top_k))\n",
    "    if maxhit< found_in_top_k:\n",
    "        maxhit=found_in_top_k\n",
    "        maxgene=cov_related_genes[i]\n",
    "        max_dugs=found_drugs\n",
    "print(\"{}\\t{}\\t{}\".format(maxgene, maxhit,max_dugs))\n",
    "for drug in drugs_in_top_k.keys():\n",
    "    print(\"{}\\t{}\\t{}\\t{}\".format(drug, clinical_drug_map[drug] ,drugs_in_top_k[drug],drugsfr_in_top_k[drug]))\n",
    "    "
   ]
  },
  {
   "cell_type": "code",
   "execution_count": null,
   "metadata": {},
   "outputs": [],
   "source": []
  }
 ],
 "metadata": {
  "kernelspec": {
   "display_name": "Python 3",
   "language": "python",
   "name": "python3"
  },
  "language_info": {
   "codemirror_mode": {
    "name": "ipython",
    "version": 3
   },
   "file_extension": ".py",
   "mimetype": "text/x-python",
   "name": "python",
   "nbconvert_exporter": "python",
   "pygments_lexer": "ipython3",
   "version": "3.7.6"
  }
 },
 "nbformat": 4,
 "nbformat_minor": 4
}
