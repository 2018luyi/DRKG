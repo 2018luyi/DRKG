{
 "cells": [
  {
   "cell_type": "markdown",
   "metadata": {},
   "source": [
    "# COVID-19 Drug Repurposing Example\n",
    "This example shows how to do drug repurposing using DRKG even with the pretrained model."
   ]
  },
  {
   "cell_type": "markdown",
   "metadata": {},
   "source": [
    "## Collecting COVID-19 related disease\n",
    "At the very beginning we need to collect a list of disease of Corona-Virus(COV) in DRKG. We can easily use the Disease ID that DRKG uses for encoding the disease. Here we take all of the COV disease as target."
   ]
  },
  {
   "cell_type": "code",
   "execution_count": 117,
   "metadata": {},
   "outputs": [],
   "source": [
    "COV_disease_list = [\n",
    "'Disease::SARS-CoV2 E',\n",
    "'Disease::SARS-CoV2 M',\n",
    "'Disease::SARS-CoV2 N',\n",
    "'Disease::SARS-CoV2 Spike',\n",
    "'Disease::SARS-CoV2 nsp1',\n",
    "'Disease::SARS-CoV2 nsp10',\n",
    "'Disease::SARS-CoV2 nsp11',\n",
    "'Disease::SARS-CoV2 nsp12',\n",
    "'Disease::SARS-CoV2 nsp13',\n",
    "'Disease::SARS-CoV2 nsp14',\n",
    "'Disease::SARS-CoV2 nsp15',\n",
    "'Disease::SARS-CoV2 nsp2',\n",
    "'Disease::SARS-CoV2 nsp4',\n",
    "'Disease::SARS-CoV2 nsp5',\n",
    "'Disease::SARS-CoV2 nsp5_C145A',\n",
    "'Disease::SARS-CoV2 nsp6',\n",
    "'Disease::SARS-CoV2 nsp7',\n",
    "'Disease::SARS-CoV2 nsp8',\n",
    "'Disease::SARS-CoV2 nsp9',\n",
    "'Disease::SARS-CoV2 orf10',\n",
    "'Disease::SARS-CoV2 orf3a',\n",
    "'Disease::SARS-CoV2 orf3b',\n",
    "'Disease::SARS-CoV2 orf6',\n",
    "'Disease::SARS-CoV2 orf7a',\n",
    "'Disease::SARS-CoV2 orf8',\n",
    "'Disease::SARS-CoV2 orf9b',\n",
    "'Disease::SARS-CoV2 orf9c',\n",
    "'Disease::MESH:D045169',\n",
    "'Disease::MESH:D045473',\n",
    "'Disease::MESH:D001351',\n",
    "'Disease::MESH:D065207',\n",
    "'Disease::MESH:D028941',\n",
    "'Disease::MESH:D058957',\n",
    "'Disease::MESH:D006517'\n",
    "]"
   ]
  },
  {
   "cell_type": "markdown",
   "metadata": {},
   "source": [
    "## Candidate drugs\n",
    "Now we use FDA-approved drugs in Drugbank as candidate drugs. (we exclude drugs with molecule weight < 250) The drug list is in infer\\_drug.tsv"
   ]
  },
  {
   "cell_type": "code",
   "execution_count": 76,
   "metadata": {},
   "outputs": [],
   "source": [
    "import csv\n",
    "\n",
    "# Load entity file\n",
    "drug_list = []\n",
    "with open(\"./infer_drug.tsv\", newline='', encoding='utf-8') as csvfile:\n",
    "    reader = csv.DictReader(csvfile, delimiter='\\t', fieldnames=['drug','ids'])\n",
    "    for row_val in reader:\n",
    "        drug_list.append(row_val['drug'])"
   ]
  },
  {
   "cell_type": "markdown",
   "metadata": {},
   "source": [
    "## Treatment relation"
   ]
  },
  {
   "cell_type": "code",
   "execution_count": 77,
   "metadata": {},
   "outputs": [],
   "source": [
    "treatment = 'GNBR::T::Compound:Disease'"
   ]
  },
  {
   "cell_type": "markdown",
   "metadata": {},
   "source": [
    "## Get pretrained model\n",
    "We can directly use the pretrianed model to do drug repurposing."
   ]
  },
  {
   "cell_type": "code",
   "execution_count": 78,
   "metadata": {},
   "outputs": [],
   "source": [
    "import pandas as pd\n",
    "import numpy as np\n",
    "import sys\n",
    "sys.path.insert(1, '../utils')\n",
    "from utils import download_and_extract\n",
    "download_and_extract()"
   ]
  },
  {
   "cell_type": "code",
   "execution_count": 79,
   "metadata": {},
   "outputs": [],
   "source": [
    "entity_idmap_file = '../data/drkg/embed/entities.tsv'\n",
    "relation_idmap_file = '../data/drkg/embed/relations.tsv'"
   ]
  },
  {
   "cell_type": "markdown",
   "metadata": {},
   "source": [
    "## Get embeddings for diseases and drugs"
   ]
  },
  {
   "cell_type": "code",
   "execution_count": 98,
   "metadata": {},
   "outputs": [],
   "source": [
    "# Get drugname/disease name to entity ID mappings\n",
    "entity_map = {}\n",
    "entity_id_map = {}\n",
    "relation_map = {}\n",
    "with open(entity_idmap_file, newline='', encoding='utf-8') as csvfile:\n",
    "    reader = csv.DictReader(csvfile, delimiter='\\t', fieldnames=['name','id'])\n",
    "    for row_val in reader:\n",
    "        entity_map[row_val['name']] = int(row_val['id'])\n",
    "        entity_id_map[int(row_val['id'])] = row_val['name']\n",
    "        \n",
    "with open(relation_idmap_file, newline='', encoding='utf-8') as csvfile:\n",
    "    reader = csv.DictReader(csvfile, delimiter='\\t', fieldnames=['name','id'])\n",
    "    for row_val in reader:\n",
    "        relation_map[row_val['name']] = int(row_val['id'])\n",
    "        \n",
    "# handle the ID mapping\n",
    "drug_ids = []\n",
    "disease_ids = []\n",
    "for drug in drug_list:\n",
    "    drug_ids.append(entity_map[drug])\n",
    "    \n",
    "for disease in COV_disease_list:\n",
    "    disease_ids.append(entity_map[disease])\n",
    "    \n",
    "treatment_rid = relation_map[treatment]"
   ]
  },
  {
   "cell_type": "code",
   "execution_count": 99,
   "metadata": {},
   "outputs": [],
   "source": [
    "# Load embeddings\n",
    "import torch as th\n",
    "entity_emb = np.load('../data/drkg/embed/DRKG_TransE_l2_entity.npy')\n",
    "rel_emb = np.load('../data/drkg/embed/DRKG_TransE_l2_relation.npy')\n",
    "\n",
    "drug_ids = th.tensor(drug_ids).long()\n",
    "disease_ids = th.tensor(disease_ids).long()\n",
    "treatment_rid = th.tensor(treatment_rid)\n",
    "\n",
    "drug_emb = th.tensor(entity_emb[drug_ids])\n",
    "treatment_emb = th.tensor(rel_emb[treatment_rid])"
   ]
  },
  {
   "cell_type": "markdown",
   "metadata": {},
   "source": [
    "## Drug Repurposing Based on Edge Score\n",
    "We use following algorithm to calculate the edge score. Note, here we use logsigmiod to make all scores < 0. The larger the score is, the stronger the $h$ will have $r$ with $t$.\n",
    "\n",
    "$\\mathbf{d} = \\gamma - ||\\mathbf{h}+\\mathbf{r}-\\mathbf{t}||_{2}$\n",
    "\n",
    "$\\mathbf{score} = \\log\\left(\\frac{1}{1+\\exp(\\mathbf{-d})}\\right)$\n",
    "\n",
    "When doing drug repurposing, we only use GNBR::T::Compound:Disease relation."
   ]
  },
  {
   "cell_type": "code",
   "execution_count": 119,
   "metadata": {},
   "outputs": [],
   "source": [
    "import torch.nn.functional as fn\n",
    "\n",
    "gamma=12.0\n",
    "def transE_l2(head, rel, tail):\n",
    "    score = head + rel - tail\n",
    "    return gamma - th.norm(score, p=2, dim=-1)\n",
    "\n",
    "scores_per_disease = []\n",
    "dids = []\n",
    "for disease_id in disease_ids:\n",
    "    disease_emb = entity_emb[disease_id]\n",
    "    score = fn.logsigmoid(transE_l2(drug_emb, treatment_emb, disease_emb))\n",
    "    scores_per_disease.append(score)\n",
    "    dids.append(drug_ids)\n",
    "    \n",
    "scores = th.cat(scores_per_disease)\n",
    "dids = th.cat(dids)"
   ]
  },
  {
   "cell_type": "code",
   "execution_count": 120,
   "metadata": {},
   "outputs": [],
   "source": [
    "# sort scores in decending order\n",
    "idx = th.flip(th.argsort(scores), dims=[0])\n",
    "scores = scores[idx].numpy()\n",
    "dids = dids[idx].numpy()"
   ]
  },
  {
   "cell_type": "markdown",
   "metadata": {},
   "source": [
    "### Now we output proposed treatments"
   ]
  },
  {
   "cell_type": "code",
   "execution_count": 121,
   "metadata": {},
   "outputs": [],
   "source": [
    "_, unique_indices = np.unique(dids, return_index=True)\n",
    "top100_indices = np.sort(unique_indices)[:100]\n",
    "proposed_dids = dids[top100_indices]\n",
    "proposed_scores = scores[top100_indices]"
   ]
  },
  {
   "cell_type": "markdown",
   "metadata": {},
   "source": [
    "Now we list the pairs of in form of (drug, treat, disease, score) \n",
    "\n",
    "We select top 100 relevent drugs according the edge score"
   ]
  },
  {
   "cell_type": "code",
   "execution_count": 122,
   "metadata": {},
   "outputs": [
    {
     "name": "stdout",
     "output_type": "stream",
     "text": [
      "Compound::DB00811\t-0.21358221769332886\n",
      "Compound::DB00982\t-0.7457163333892822\n",
      "Compound::DB01082\t-0.80478835105896\n",
      "Compound::DB00563\t-0.8762229681015015\n",
      "Compound::DB00635\t-0.8786484599113464\n",
      "Compound::DB00681\t-0.9245818853378296\n",
      "Compound::DB00290\t-0.9402258396148682\n",
      "Compound::DB00860\t-0.9569648504257202\n",
      "Compound::DB00249\t-0.9634518027305603\n",
      "Compound::DB01222\t-0.9871338605880737\n",
      "Compound::DB00993\t-0.9912917613983154\n",
      "Compound::DB00512\t-1.0083342790603638\n",
      "Compound::DB00624\t-1.0209006071090698\n",
      "Compound::DB01024\t-1.0232834815979004\n",
      "Compound::DB01234\t-1.025983214378357\n",
      "Compound::DB01004\t-1.0309269428253174\n",
      "Compound::DB00688\t-1.03281569480896\n",
      "Compound::DB00091\t-1.0585496425628662\n",
      "Compound::DB00558\t-1.0633755922317505\n",
      "Compound::DB00741\t-1.0851504802703857\n",
      "Compound::DB00783\t-1.0877355337142944\n",
      "Compound::DB00552\t-1.0897188186645508\n",
      "Compound::DB01394\t-1.0996224880218506\n",
      "Compound::DB00131\t-1.1011534929275513\n",
      "Compound::DB01212\t-1.1101065874099731\n",
      "Compound::DB00415\t-1.1111209392547607\n",
      "Compound::DB00115\t-1.1231274604797363\n",
      "Compound::DB00929\t-1.1348822116851807\n",
      "Compound::DB00958\t-1.1413540840148926\n",
      "Compound::DB00684\t-1.142016887664795\n",
      "Compound::DB00515\t-1.1458933353424072\n",
      "Compound::DB00755\t-1.1490178108215332\n",
      "Compound::DB01101\t-1.1493644714355469\n",
      "Compound::DB01183\t-1.1531314849853516\n",
      "Compound::DB02527\t-1.1566743850708008\n",
      "Compound::DB00959\t-1.157606840133667\n",
      "Compound::DB00620\t-1.1579325199127197\n",
      "Compound::DB00591\t-1.1608378887176514\n",
      "Compound::DB00441\t-1.1630265712738037\n",
      "Compound::DB00994\t-1.1706290245056152\n",
      "Compound::DB00640\t-1.173480749130249\n",
      "Compound::DB00537\t-1.1750668287277222\n",
      "Compound::DB01240\t-1.188889980316162\n",
      "Compound::DB01073\t-1.189125418663025\n",
      "Compound::DB00770\t-1.2011579275131226\n",
      "Compound::DB01656\t-1.2049915790557861\n",
      "Compound::DB00328\t-1.2206952571868896\n",
      "Compound::DB01068\t-1.224593162536621\n",
      "Compound::DB00789\t-1.2462615966796875\n",
      "Compound::DB00198\t-1.2463655471801758\n",
      "Compound::DB00877\t-1.2526113986968994\n",
      "Compound::DB00479\t-1.2589473724365234\n",
      "Compound::DB01233\t-1.2609955072402954\n",
      "Compound::DB00571\t-1.2642171382904053\n",
      "Compound::DB01205\t-1.2649247646331787\n",
      "Compound::DB01137\t-1.278925895690918\n",
      "Compound::DB00171\t-1.2811017036437988\n",
      "Compound::DB01181\t-1.285210132598877\n",
      "Compound::DB00716\t-1.2912558317184448\n",
      "Compound::DB00355\t-1.2959039211273193\n",
      "Compound::DB01421\t-1.3020129203796387\n",
      "Compound::DB00396\t-1.3090475797653198\n",
      "Compound::DB00806\t-1.3104361295700073\n",
      "Compound::DB00390\t-1.3223598003387451\n",
      "Compound::DB00695\t-1.328160047531128\n",
      "Compound::DB00955\t-1.3295021057128906\n",
      "Compound::DB00499\t-1.3297932147979736\n",
      "Compound::DB01112\t-1.3313703536987305\n",
      "Compound::DB00364\t-1.3331239223480225\n",
      "Compound::DB00626\t-1.334114909172058\n",
      "Compound::DB09341\t-1.3355027437210083\n",
      "Compound::DB00608\t-1.3358042240142822\n",
      "Compound::DB01165\t-1.3394328355789185\n",
      "Compound::DB00813\t-1.3445013761520386\n",
      "Compound::DB00999\t-1.3455408811569214\n",
      "Compound::DB00158\t-1.3498409986495972\n",
      "Compound::DB00480\t-1.356874942779541\n",
      "Compound::DB00864\t-1.3581072092056274\n",
      "Compound::DB00446\t-1.3590468168258667\n",
      "Compound::DB02025\t-1.3604354858398438\n",
      "Compound::DB01048\t-1.36069917678833\n",
      "Compound::DB00803\t-1.3658652305603027\n",
      "Compound::DB00878\t-1.3668334484100342\n",
      "Compound::DB00738\t-1.368955373764038\n",
      "Compound::DB09093\t-1.3769280910491943\n",
      "Compound::DB00759\t-1.3771541118621826\n",
      "Compound::DB08894\t-1.380162000656128\n",
      "Compound::DB01015\t-1.3884556293487549\n",
      "Compound::DB01327\t-1.3901867866516113\n",
      "Compound::DB01406\t-1.391000509262085\n",
      "Compound::DB00586\t-1.3999583721160889\n",
      "Compound::DB01041\t-1.4024381637573242\n",
      "Compound::DB01111\t-1.4046306610107422\n",
      "Compound::DB00917\t-1.4060184955596924\n",
      "Compound::DB00795\t-1.4076688289642334\n",
      "Compound::DB00894\t-1.4085988998413086\n",
      "Compound::DB00743\t-1.4118789434432983\n",
      "Compound::DB01133\t-1.423699975013733\n",
      "Compound::DB01039\t-1.4243907928466797\n",
      "Compound::DB01190\t-1.427499771118164\n"
     ]
    }
   ],
   "source": [
    "for i in range(100):\n",
    "    drug = int(proposed_dids[i])\n",
    "    score = proposed_scores[i]\n",
    "    \n",
    "    print(\"{}\\t{}\".format(entity_id_map[drug], score))"
   ]
  },
  {
   "cell_type": "markdown",
   "metadata": {},
   "source": [
    "### Check Clinial Trial Drugs\n",
    "There are seven clinial trial drugs hit in top100. (Note: Ribavirin exists in DRKG as a treatment for SARS)"
   ]
  },
  {
   "cell_type": "code",
   "execution_count": 123,
   "metadata": {},
   "outputs": [
    {
     "name": "stdout",
     "output_type": "stream",
     "text": [
      "[0]Ribavirin\n",
      "[14]Dexamethasone\n",
      "[22]Colchicine\n",
      "[35]Methylprednisolone\n",
      "[49]Oseltamivir\n",
      "[71]Chloroquine\n",
      "[91]Thalidomide\n"
     ]
    }
   ],
   "source": [
    "clinical_drugs_file = './COVID19_clinical_trial_drugs.tsv'\n",
    "clinical_drug_map = {}\n",
    "with open(clinical_drugs_file, newline='', encoding='utf-8') as csvfile:\n",
    "    reader = csv.DictReader(csvfile, delimiter='\\t', fieldnames=['id', 'drug_name','drug_id'])\n",
    "    for row_val in reader:\n",
    "        clinical_drug_map[row_val['drug_id']] = row_val['drug_name']\n",
    "        \n",
    "for i in range(100):\n",
    "    drug = entity_id_map[int(proposed_dids[i])][10:17]\n",
    "    if clinical_drug_map.get(drug, None) is not None:\n",
    "        score = proposed_scores[i]\n",
    "        print(\"[{}]{}\".format(i, clinical_drug_map[drug]))"
   ]
  },
  {
   "cell_type": "code",
   "execution_count": null,
   "metadata": {},
   "outputs": [],
   "source": []
  }
 ],
 "metadata": {
  "kernelspec": {
   "display_name": "Python 3",
   "language": "python",
   "name": "python3"
  },
  "language_info": {
   "codemirror_mode": {
    "name": "ipython",
    "version": 3
   },
   "file_extension": ".py",
   "mimetype": "text/x-python",
   "name": "python",
   "nbconvert_exporter": "python",
   "pygments_lexer": "ipython3",
   "version": "3.7.6"
  }
 },
 "nbformat": 4,
 "nbformat_minor": 4
}
