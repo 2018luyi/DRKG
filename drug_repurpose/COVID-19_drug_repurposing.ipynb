{
 "cells": [
  {
   "cell_type": "markdown",
   "metadata": {},
   "source": [
    "# COVID-19 Drug Repurposing via disease-compounds relations\n",
    "This example shows how to do drug repurposing using DRKG even with the pretrained model."
   ]
  },
  {
   "cell_type": "markdown",
   "metadata": {},
   "source": [
    "## Collecting COVID-19 related disease\n",
    "At the very beginning we need to collect a list of disease of Corona-Virus(COV) in DRKG. We can easily use the Disease ID that DRKG uses for encoding the disease. Here we take all of the COV disease as target."
   ]
  },
  {
   "cell_type": "code",
   "execution_count": 1,
   "metadata": {},
   "outputs": [],
   "source": [
    "COV_disease_list = [\n",
    "'Disease::SARS-CoV2 E',\n",
    "'Disease::SARS-CoV2 M',\n",
    "'Disease::SARS-CoV2 N',\n",
    "'Disease::SARS-CoV2 Spike',\n",
    "'Disease::SARS-CoV2 nsp1',\n",
    "'Disease::SARS-CoV2 nsp10',\n",
    "'Disease::SARS-CoV2 nsp11',\n",
    "'Disease::SARS-CoV2 nsp12',\n",
    "'Disease::SARS-CoV2 nsp13',\n",
    "'Disease::SARS-CoV2 nsp14',\n",
    "'Disease::SARS-CoV2 nsp15',\n",
    "'Disease::SARS-CoV2 nsp2',\n",
    "'Disease::SARS-CoV2 nsp4',\n",
    "'Disease::SARS-CoV2 nsp5',\n",
    "'Disease::SARS-CoV2 nsp5_C145A',\n",
    "'Disease::SARS-CoV2 nsp6',\n",
    "'Disease::SARS-CoV2 nsp7',\n",
    "'Disease::SARS-CoV2 nsp8',\n",
    "'Disease::SARS-CoV2 nsp9',\n",
    "'Disease::SARS-CoV2 orf10',\n",
    "'Disease::SARS-CoV2 orf3a',\n",
    "'Disease::SARS-CoV2 orf3b',\n",
    "'Disease::SARS-CoV2 orf6',\n",
    "'Disease::SARS-CoV2 orf7a',\n",
    "'Disease::SARS-CoV2 orf8',\n",
    "'Disease::SARS-CoV2 orf9b',\n",
    "'Disease::SARS-CoV2 orf9c',\n",
    "'Disease::MESH:D045169',\n",
    "'Disease::MESH:D045473',\n",
    "'Disease::MESH:D001351',\n",
    "'Disease::MESH:D065207',\n",
    "'Disease::MESH:D028941',\n",
    "'Disease::MESH:D058957',\n",
    "'Disease::MESH:D006517'\n",
    "]"
   ]
  },
  {
   "cell_type": "markdown",
   "metadata": {},
   "source": [
    "## Candidate drugs\n",
    "Now we use FDA-approved drugs in Drugbank as candidate drugs. (we exclude drugs with molecule weight < 250) The drug list is in infer\\_drug.tsv"
   ]
  },
  {
   "cell_type": "code",
   "execution_count": 2,
   "metadata": {},
   "outputs": [],
   "source": [
    "import csv\n",
    "\n",
    "# Load entity file\n",
    "drug_list = []\n",
    "with open(\"./infer_drug.tsv\", newline='', encoding='utf-8') as csvfile:\n",
    "    reader = csv.DictReader(csvfile, delimiter='\\t', fieldnames=['drug','ids'])\n",
    "    for row_val in reader:\n",
    "        drug_list.append(row_val['drug'])"
   ]
  },
  {
   "cell_type": "code",
   "execution_count": 3,
   "metadata": {},
   "outputs": [
    {
     "data": {
      "text/plain": [
       "8104"
      ]
     },
     "execution_count": 3,
     "metadata": {},
     "output_type": "execute_result"
    }
   ],
   "source": [
    "len(drug_list)"
   ]
  },
  {
   "cell_type": "markdown",
   "metadata": {},
   "source": [
    "## Treatment relation"
   ]
  },
  {
   "cell_type": "markdown",
   "metadata": {},
   "source": [
    "Two treatment relations in this context"
   ]
  },
  {
   "cell_type": "code",
   "execution_count": 4,
   "metadata": {},
   "outputs": [],
   "source": [
    "treatment = ['DRKG::treats::Compound:Disease']"
   ]
  },
  {
   "cell_type": "markdown",
   "metadata": {},
   "source": [
    "## Get pretrained model\n",
    "We can directly use the pretrianed model to do drug repurposing."
   ]
  },
  {
   "cell_type": "code",
   "execution_count": 5,
   "metadata": {},
   "outputs": [],
   "source": [
    "import pandas as pd\n",
    "import numpy as np\n",
    "import sys\n",
    "sys.path.insert(1, '../utils')\n",
    "from utils import download_and_extract\n",
    "download_and_extract()"
   ]
  },
  {
   "cell_type": "code",
   "execution_count": 6,
   "metadata": {},
   "outputs": [],
   "source": [
    "entity_idmap_file = '../data/drkg/embed/entities.tsv'\n",
    "relation_idmap_file = '../data/drkg/embed/relations.tsv'\n",
    "\n",
    "entity_idmap_file = '../alternative_datasources/train_ref_drkg/entities.tsv'\n",
    "relation_idmap_file = '../alternative_datasources/train_ref_drkg/relations.tsv'"
   ]
  },
  {
   "cell_type": "markdown",
   "metadata": {},
   "source": [
    "## Get embeddings for diseases and drugs"
   ]
  },
  {
   "cell_type": "code",
   "execution_count": 7,
   "metadata": {},
   "outputs": [],
   "source": [
    "# Get drugname/disease name to entity ID mappings\n",
    "entity_map = {}\n",
    "entity_id_map = {}\n",
    "relation_map = {}\n",
    "with open(entity_idmap_file, newline='', encoding='utf-8') as csvfile:\n",
    "    reader = csv.DictReader(csvfile, delimiter='\\t', fieldnames=['name','id'])\n",
    "    for row_val in reader:\n",
    "        #print(row_val)\n",
    "        entity_map[row_val['id']] = int(row_val['name'])\n",
    "        entity_id_map[int(row_val['name'])] = row_val['id']\n",
    "        \n",
    "with open(relation_idmap_file, newline='', encoding='utf-8') as csvfile:\n",
    "    reader = csv.DictReader(csvfile, delimiter='\\t', fieldnames=['name','id'])\n",
    "    for row_val in reader:\n",
    "        relation_map[row_val['id']] = int(row_val['name'])\n",
    "        \n",
    "# handle the ID mapping\n",
    "drug_ids = []\n",
    "disease_ids = []\n",
    "for drug in drug_list:\n",
    "    drug_ids.append(entity_map[drug])\n",
    "    \n",
    "for disease in COV_disease_list:\n",
    "    disease_ids.append(entity_map[disease])\n",
    "\n",
    "treatment_rid = [relation_map[treat]  for treat in treatment]"
   ]
  },
  {
   "cell_type": "code",
   "execution_count": 8,
   "metadata": {},
   "outputs": [],
   "source": [
    "# Load embeddings\n",
    "import torch as th\n",
    "entity_emb = np.load('../alternative_datasources/ckpts/TransE_l2_ref_drkg_1/ref_drkg_TransE_l2_entity.npy')\n",
    "rel_emb = np.load('../alternative_datasources/ckpts/TransE_l2_ref_drkg_1/ref_drkg_TransE_l2_relation.npy')\n",
    "\n",
    "drug_ids = th.tensor(drug_ids).long()\n",
    "disease_ids = th.tensor(disease_ids).long()\n",
    "treatment_rid = th.tensor(treatment_rid)\n",
    "\n",
    "drug_emb = th.tensor(entity_emb[drug_ids])\n",
    "treatment_embs = [th.tensor(rel_emb[rid]) for rid in treatment_rid]"
   ]
  },
  {
   "cell_type": "markdown",
   "metadata": {},
   "source": [
    "## Drug Repurposing Based on Edge Score\n",
    "We use following algorithm to calculate the edge score. Note, here we use logsigmiod to make all scores < 0. The larger the score is, the stronger the $h$ will have $r$ with $t$.\n",
    "\n",
    "$\\mathbf{d} = \\gamma - ||\\mathbf{h}+\\mathbf{r}-\\mathbf{t}||_{2}$\n",
    "\n",
    "$\\mathbf{score} = \\log\\left(\\frac{1}{1+\\exp(\\mathbf{-d})}\\right)$\n",
    "\n",
    "When doing drug repurposing, we only use the treatment related relations."
   ]
  },
  {
   "cell_type": "code",
   "execution_count": 9,
   "metadata": {},
   "outputs": [],
   "source": [
    "import torch.nn.functional as fn\n",
    "\n",
    "gamma=12.0\n",
    "def transE_l2(head, rel, tail):\n",
    "    score = head + rel - tail\n",
    "    return gamma - th.norm(score, p=2, dim=-1)\n",
    "\n",
    "scores_per_disease = []\n",
    "dids = []\n",
    "for rid in range(len(treatment_embs)):\n",
    "    treatment_emb=treatment_embs[rid]\n",
    "    for disease_id in disease_ids:\n",
    "        disease_emb = entity_emb[disease_id]\n",
    "        score = fn.logsigmoid(transE_l2(drug_emb, treatment_emb, disease_emb))\n",
    "        scores_per_disease.append(score)\n",
    "        dids.append(drug_ids)\n",
    "scores = th.cat(scores_per_disease)\n",
    "dids = th.cat(dids)\n"
   ]
  },
  {
   "cell_type": "code",
   "execution_count": 10,
   "metadata": {},
   "outputs": [],
   "source": [
    "# sort scores in decending order\n",
    "idx = th.flip(th.argsort(scores), dims=[0])\n",
    "scores = scores[idx].numpy()\n",
    "dids = dids[idx].numpy()"
   ]
  },
  {
   "cell_type": "markdown",
   "metadata": {},
   "source": [
    "### Now we output proposed treatments"
   ]
  },
  {
   "cell_type": "code",
   "execution_count": 11,
   "metadata": {},
   "outputs": [],
   "source": [
    "_, unique_indices = np.unique(dids, return_index=True)\n",
    "topk=100\n",
    "topk_indices = np.sort(unique_indices)[:topk]\n",
    "proposed_dids = dids[topk_indices]\n",
    "proposed_scores = scores[topk_indices]"
   ]
  },
  {
   "cell_type": "markdown",
   "metadata": {},
   "source": [
    "Now we list the pairs of in form of (drug, treat, disease, score) \n",
    "\n",
    "We select top K relevent drugs according the edge score"
   ]
  },
  {
   "cell_type": "code",
   "execution_count": 12,
   "metadata": {},
   "outputs": [
    {
     "name": "stdout",
     "output_type": "stream",
     "text": [
      "Compound::DB00811\t-0.25275006890296936\n",
      "Compound::DB00993\t-0.7290461659431458\n",
      "Compound::DB00982\t-0.7583667635917664\n",
      "Compound::DB00635\t-0.7888022661209106\n",
      "Compound::DB01394\t-0.8088386654853821\n",
      "Compound::DB00624\t-0.8123313188552856\n",
      "Compound::DB01082\t-0.8146699666976929\n",
      "Compound::DB00864\t-0.8308135271072388\n",
      "Compound::DB00929\t-0.8370377421379089\n",
      "Compound::DB01234\t-0.8542605638504028\n",
      "Compound::DB00995\t-0.855816662311554\n",
      "Compound::DB08818\t-0.873249351978302\n",
      "Compound::DB01222\t-0.8797634840011597\n",
      "Compound::DB00741\t-0.8930429816246033\n",
      "Compound::DB00131\t-0.9161151051521301\n",
      "Compound::DB01331\t-0.9192083477973938\n",
      "Compound::DB00171\t-0.9201362729072571\n",
      "Compound::DB00415\t-0.9372046589851379\n",
      "Compound::DB00459\t-0.9410740733146667\n",
      "Compound::DB00591\t-0.9464714527130127\n",
      "Compound::DB00644\t-0.9529374241828918\n",
      "Compound::DB00860\t-0.9605386257171631\n",
      "Compound::DB01004\t-0.9656814932823181\n",
      "Compound::DB00798\t-0.9700862169265747\n",
      "Compound::DB01015\t-0.9711263179779053\n",
      "Compound::DB01048\t-0.9969010353088379\n",
      "Compound::DB02527\t-1.0012469291687012\n",
      "Compound::DB00290\t-1.003841757774353\n",
      "Compound::DB08894\t-1.0061790943145752\n",
      "Compound::DB00681\t-1.007486343383789\n",
      "Compound::DB00480\t-1.0166515111923218\n",
      "Compound::DB00196\t-1.0219779014587402\n",
      "Compound::DB00770\t-1.0225114822387695\n",
      "Compound::DB00620\t-1.0238351821899414\n",
      "Compound::DB00682\t-1.0246431827545166\n",
      "Compound::DB00688\t-1.027730941772461\n",
      "Compound::DB00091\t-1.0281192064285278\n",
      "Compound::DB00783\t-1.0298542976379395\n",
      "Compound::DB01073\t-1.0329300165176392\n",
      "Compound::DB01024\t-1.0368547439575195\n",
      "Compound::DB00959\t-1.0394824743270874\n",
      "Compound::DB00755\t-1.040130376815796\n",
      "Compound::DB01380\t-1.0521893501281738\n",
      "Compound::DB01656\t-1.0568851232528687\n",
      "Compound::DB00877\t-1.059709072113037\n",
      "Compound::DB00563\t-1.0616618394851685\n",
      "Compound::DB00608\t-1.0635080337524414\n",
      "Compound::DB01416\t-1.0813634395599365\n",
      "Compound::DB00684\t-1.0850892066955566\n",
      "Compound::DB01406\t-1.0866659879684448\n",
      "Compound::DB01112\t-1.0937813520431519\n",
      "Compound::DB00716\t-1.0947844982147217\n",
      "Compound::DB01212\t-1.095940351486206\n",
      "Compound::DB01421\t-1.0998286008834839\n",
      "Compound::DB00917\t-1.1021041870117188\n",
      "Compound::DB00806\t-1.1023499965667725\n",
      "Compound::DB00640\t-1.1031603813171387\n",
      "Compound::DB00999\t-1.1104230880737305\n",
      "Compound::DB01165\t-1.1113519668579102\n",
      "Compound::DB01183\t-1.111798644065857\n",
      "Compound::DB00571\t-1.1174019575119019\n",
      "Compound::DB00718\t-1.117458462715149\n",
      "Compound::DB01190\t-1.1188815832138062\n",
      "Compound::DB00958\t-1.1189689636230469\n",
      "Compound::DB09341\t-1.1212648153305054\n",
      "Compound::DB01327\t-1.1224454641342163\n",
      "Compound::DB00815\t-1.1233315467834473\n",
      "Compound::DB00537\t-1.1262757778167725\n",
      "Compound::DB01101\t-1.1303050518035889\n",
      "Compound::DB00512\t-1.130831241607666\n",
      "Compound::DB01181\t-1.1380696296691895\n",
      "Compound::DB01065\t-1.138079285621643\n",
      "Compound::DB00626\t-1.1398097276687622\n",
      "Compound::DB00974\t-1.1403865814208984\n",
      "Compound::DB01133\t-1.148922085762024\n",
      "Compound::DB00738\t-1.1506483554840088\n",
      "Compound::DB00355\t-1.1543934345245361\n",
      "Compound::DB00558\t-1.1546704769134521\n",
      "Compound::DB01022\t-1.1581045389175415\n",
      "Compound::DB08877\t-1.1595460176467896\n",
      "Compound::DB01039\t-1.1601883172988892\n",
      "Compound::DB00894\t-1.1612839698791504\n",
      "Compound::DB00443\t-1.163232445716858\n",
      "Compound::DB00337\t-1.1647475957870483\n",
      "Compound::DB00499\t-1.165762186050415\n",
      "Compound::DB04630\t-1.1672797203063965\n",
      "Compound::DB01009\t-1.1674447059631348\n",
      "Compound::DB00743\t-1.167957067489624\n",
      "Compound::DB00821\t-1.1720854043960571\n",
      "Compound::DB00035\t-1.1751940250396729\n",
      "Compound::DB08911\t-1.1769001483917236\n",
      "Compound::DB01240\t-1.1794930696487427\n",
      "Compound::DB00198\t-1.1910929679870605\n",
      "Compound::DB00493\t-1.1925897598266602\n",
      "Compound::DB00515\t-1.1928755044937134\n",
      "Compound::DB01233\t-1.2029982805252075\n",
      "Compound::DB00955\t-1.2038030624389648\n",
      "Compound::DB01041\t-1.2042651176452637\n",
      "Compound::DB01124\t-1.2055292129516602\n",
      "Compound::DB00333\t-1.205656886100769\n"
     ]
    }
   ],
   "source": [
    "for i in range(topk):\n",
    "    drug = int(proposed_dids[i])\n",
    "    score = proposed_scores[i]\n",
    "    \n",
    "    print(\"{}\\t{}\".format(entity_id_map[drug], score))"
   ]
  },
  {
   "cell_type": "markdown",
   "metadata": {},
   "source": [
    "### Check Clinial Trial Drugs\n",
    "There are seven clinial trial drugs hit in top100. (Note: Ribavirin exists in DRKG as a treatment for SARS)"
   ]
  },
  {
   "cell_type": "code",
   "execution_count": 13,
   "metadata": {},
   "outputs": [
    {
     "name": "stdout",
     "output_type": "stream",
     "text": [
      "[0]\tRibavirin\t-0.25275006890296936\n",
      "[4]\tColchicine\t-0.8088386654853821\n",
      "[9]\tDexamethasone\t-0.8542605638504028\n",
      "[40]\tMethylprednisolone\t-1.0394824743270874\n",
      "[46]\tChloroquine\t-1.0635080337524414\n",
      "[79]\tRuxolitinib\t-1.1595460176467896\n",
      "[92]\tOseltamivir\t-1.1910929679870605\n",
      "[97]\tThalidomide\t-1.2042651176452637\n"
     ]
    }
   ],
   "source": [
    "clinical_drugs_file = './COVID19_clinical_trial_drugs.tsv'\n",
    "clinical_drug_map = {}\n",
    "with open(clinical_drugs_file, newline='', encoding='utf-8') as csvfile:\n",
    "    reader = csv.DictReader(csvfile, delimiter='\\t', fieldnames=['id', 'drug_name','drug_id'])\n",
    "    for row_val in reader:\n",
    "        clinical_drug_map[row_val['drug_id']] = row_val['drug_name']\n",
    "        \n",
    "for i in range(topk):\n",
    "    drug = entity_id_map[int(proposed_dids[i])][10:17]\n",
    "    if clinical_drug_map.get(drug, None) is not None:\n",
    "        score = proposed_scores[i]\n",
    "        print(\"[{}]\\t{}\\t{}\".format(i, clinical_drug_map[drug],score , proposed_scores[i]))"
   ]
  },
  {
   "cell_type": "code",
   "execution_count": 14,
   "metadata": {},
   "outputs": [
    {
     "data": {
      "text/plain": [
       "32"
      ]
     },
     "execution_count": 14,
     "metadata": {},
     "output_type": "execute_result"
    }
   ],
   "source": [
    "len(clinical_drug_map)"
   ]
  },
  {
   "cell_type": "code",
   "execution_count": 20,
   "metadata": {},
   "outputs": [
    {
     "name": "stdout",
     "output_type": "stream",
     "text": [
      "[0]\tDB00811\n",
      "[1]\tDB00993\n",
      "[2]\tDB00982\n",
      "[3]\tDB00635\n",
      "[4]\tDB01394\n",
      "[5]\tDB00624\n",
      "[6]\tDB01082\n",
      "[7]\tDB00864\n",
      "[8]\tDB00929\n",
      "[9]\tDB01234\n"
     ]
    }
   ],
   "source": [
    "for i in range(10):\n",
    "    drug = entity_id_map[int(proposed_dids[i])][10:17]\n",
    "    print(\"[{}]\\t{}\".format(i, drug))"
   ]
  },
  {
   "cell_type": "code",
   "execution_count": null,
   "metadata": {},
   "outputs": [],
   "source": []
  }
 ],
 "metadata": {
  "kernelspec": {
   "display_name": "Environment (conda_my_dgl)",
   "language": "python",
   "name": "conda_my_dgl"
  },
  "language_info": {
   "codemirror_mode": {
    "name": "ipython",
    "version": 3
   },
   "file_extension": ".py",
   "mimetype": "text/x-python",
   "name": "python",
   "nbconvert_exporter": "python",
   "pygments_lexer": "ipython3",
   "version": "3.6.10"
  }
 },
 "nbformat": 4,
 "nbformat_minor": 4
}
