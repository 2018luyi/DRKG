{
 "cells": [
  {
   "cell_type": "markdown",
   "metadata": {},
   "source": [
    "# COVID-19 Drug Repurposing Example\n",
    "This example shows how to do drug repurposing using DRKG even with the pretrained model."
   ]
  },
  {
   "cell_type": "markdown",
   "metadata": {},
   "source": [
    "## Collecting COVID-19 related disease\n",
    "At the very beginning we need to collect a list of disease of Corona-Virus(COV) in DRKG. We can easily use the Disease ID that DRKG uses for encoding the disease. Here we take all of the COV disease as target."
   ]
  },
  {
   "cell_type": "code",
   "execution_count": 1,
   "metadata": {},
   "outputs": [],
   "source": [
    "COV_disease_list = [\n",
    "'Disease::SARS-CoV2 E',\n",
    "'Disease::SARS-CoV2 M',\n",
    "'Disease::SARS-CoV2 N',\n",
    "'Disease::SARS-CoV2 Spike',\n",
    "'Disease::SARS-CoV2 nsp1',\n",
    "'Disease::SARS-CoV2 nsp10',\n",
    "'Disease::SARS-CoV2 nsp11',\n",
    "'Disease::SARS-CoV2 nsp12',\n",
    "'Disease::SARS-CoV2 nsp13',\n",
    "'Disease::SARS-CoV2 nsp14',\n",
    "'Disease::SARS-CoV2 nsp15',\n",
    "'Disease::SARS-CoV2 nsp2',\n",
    "'Disease::SARS-CoV2 nsp4',\n",
    "'Disease::SARS-CoV2 nsp5',\n",
    "'Disease::SARS-CoV2 nsp5_C145A',\n",
    "'Disease::SARS-CoV2 nsp6',\n",
    "'Disease::SARS-CoV2 nsp7',\n",
    "'Disease::SARS-CoV2 nsp8',\n",
    "'Disease::SARS-CoV2 nsp9',\n",
    "'Disease::SARS-CoV2 orf10',\n",
    "'Disease::SARS-CoV2 orf3a',\n",
    "'Disease::SARS-CoV2 orf3b',\n",
    "'Disease::SARS-CoV2 orf6',\n",
    "'Disease::SARS-CoV2 orf7a',\n",
    "'Disease::SARS-CoV2 orf8',\n",
    "'Disease::SARS-CoV2 orf9b',\n",
    "'Disease::SARS-CoV2 orf9c',\n",
    "'Disease::MESH:D045169',\n",
    "'Disease::MESH:D045473',\n",
    "'Disease::MESH:D001351',\n",
    "'Disease::MESH:D065207',\n",
    "'Disease::MESH:D028941',\n",
    "'Disease::MESH:D058957',\n",
    "'Disease::MESH:D006517'\n",
    "]"
   ]
  },
  {
   "cell_type": "code",
   "execution_count": 2,
   "metadata": {},
   "outputs": [],
   "source": [
    "entity_idmap_file = '../data/drkg/embed/entities.tsv'\n",
    "relation_idmap_file = '../data/drkg/embed/relations.tsv'"
   ]
  },
  {
   "cell_type": "markdown",
   "metadata": {},
   "source": [
    "## Candidate drugs\n",
    "Now we use FDA-approved drugs in Drugbank as candidate drugs. Here we use all of the drugs in the Drugbank."
   ]
  },
  {
   "cell_type": "code",
   "execution_count": 3,
   "metadata": {},
   "outputs": [],
   "source": [
    "import csv\n",
    "drug_list = []\n",
    "with open(entity_idmap_file, newline='', encoding='utf-8') as csvfile:\n",
    "    reader = csv.DictReader(csvfile, delimiter='\\t', fieldnames=['name','id'])\n",
    "    for row_val in reader:\n",
    "        if row_val['name'].startswith('Compound::DB'):\n",
    "            drug_list.append(row_val['name'])"
   ]
  },
  {
   "cell_type": "markdown",
   "metadata": {},
   "source": [
    "## Treatment relation"
   ]
  },
  {
   "cell_type": "markdown",
   "metadata": {},
   "source": [
    "Two treatment relations in this context"
   ]
  },
  {
   "cell_type": "code",
   "execution_count": 4,
   "metadata": {},
   "outputs": [],
   "source": [
    "treatment = ['Hetionet::CtD::Compound:Disease', 'GNBR::T::Compound:Disease']"
   ]
  },
  {
   "cell_type": "markdown",
   "metadata": {},
   "source": [
    "## Get pretrained model\n",
    "We can directly use the pretrianed model to do drug repurposing."
   ]
  },
  {
   "cell_type": "code",
   "execution_count": 5,
   "metadata": {},
   "outputs": [],
   "source": [
    "import pandas as pd\n",
    "import numpy as np\n",
    "import sys\n",
    "sys.path.insert(1, '../utils')\n",
    "from utils import download_and_extract\n",
    "download_and_extract()"
   ]
  },
  {
   "cell_type": "markdown",
   "metadata": {},
   "source": [
    "## Get embeddings for diseases and drugs"
   ]
  },
  {
   "cell_type": "code",
   "execution_count": 6,
   "metadata": {},
   "outputs": [],
   "source": [
    "# Get drugname/disease name to entity ID mappings\n",
    "entity_map = {}\n",
    "entity_id_map = {}\n",
    "relation_map = {}\n",
    "with open(entity_idmap_file, newline='', encoding='utf-8') as csvfile:\n",
    "    reader = csv.DictReader(csvfile, delimiter='\\t', fieldnames=['name','id'])\n",
    "    for row_val in reader:\n",
    "        entity_map[row_val['name']] = int(row_val['id'])\n",
    "        entity_id_map[int(row_val['id'])] = row_val['name']\n",
    "        \n",
    "with open(relation_idmap_file, newline='', encoding='utf-8') as csvfile:\n",
    "    reader = csv.DictReader(csvfile, delimiter='\\t', fieldnames=['name','id'])\n",
    "    for row_val in reader:\n",
    "        relation_map[row_val['name']] = int(row_val['id'])\n",
    "        \n",
    "# handle the ID mapping\n",
    "drug_ids = []\n",
    "disease_ids = []\n",
    "for drug in drug_list:\n",
    "    drug_ids.append(entity_map[drug])\n",
    "    \n",
    "for disease in COV_disease_list:\n",
    "    disease_ids.append(entity_map[disease])\n",
    "\n",
    "treatment_rid = [relation_map[treat]  for treat in treatment]"
   ]
  },
  {
   "cell_type": "code",
   "execution_count": 7,
   "metadata": {},
   "outputs": [],
   "source": [
    "# Load embeddings\n",
    "import torch as th\n",
    "entity_emb = np.load('../data/drkg/embed/DRKG_TransE_l2_entity.npy')\n",
    "rel_emb = np.load('../data/drkg/embed/DRKG_TransE_l2_relation.npy')\n",
    "\n",
    "drug_ids = th.tensor(drug_ids).long()\n",
    "disease_ids = th.tensor(disease_ids).long()\n",
    "treatment_rid = th.tensor(treatment_rid)\n",
    "\n",
    "drug_emb = th.tensor(entity_emb[drug_ids])\n",
    "treatment_embs = [th.tensor(rel_emb[rid]) for rid in treatment_rid]"
   ]
  },
  {
   "cell_type": "markdown",
   "metadata": {},
   "source": [
    "## Drug Repurposing Based on Edge Score\n",
    "We use following algorithm to calculate the edge score. Note, here we use logsigmiod to make all scores < 0. The larger the score is, the stronger the $h$ will have $r$ with $t$.\n",
    "\n",
    "$\\mathbf{d} = \\gamma - ||\\mathbf{h}+\\mathbf{r}-\\mathbf{t}||_{2}$\n",
    "\n",
    "$\\mathbf{score} = \\log\\left(\\frac{1}{1+\\exp(\\mathbf{-d})}\\right)$\n",
    "\n",
    "When doing drug repurposing, we only use the treatment related relations."
   ]
  },
  {
   "cell_type": "code",
   "execution_count": 8,
   "metadata": {},
   "outputs": [],
   "source": [
    "import torch.nn.functional as fn\n",
    "\n",
    "gamma=12.0\n",
    "def transE_l2(head, rel, tail):\n",
    "    score = head + rel - tail\n",
    "    return gamma - th.norm(score, p=2, dim=-1)\n",
    "\n",
    "scores_per_disease = []\n",
    "dids = []\n",
    "for rid in range(len(treatment_embs)):\n",
    "    treatment_emb=treatment_embs[rid]\n",
    "    for disease_id in disease_ids:\n",
    "        disease_emb = entity_emb[disease_id]\n",
    "        score = fn.logsigmoid(transE_l2(drug_emb, treatment_emb, disease_emb))\n",
    "        scores_per_disease.append(score)\n",
    "        dids.append(drug_ids)\n",
    "scores = th.cat(scores_per_disease)\n",
    "dids = th.cat(dids)\n"
   ]
  },
  {
   "cell_type": "code",
   "execution_count": 9,
   "metadata": {},
   "outputs": [],
   "source": [
    "# sort scores in decending order\n",
    "idx = th.flip(th.argsort(scores), dims=[0])\n",
    "scores = scores[idx].numpy()\n",
    "dids = dids[idx].numpy()"
   ]
  },
  {
   "cell_type": "markdown",
   "metadata": {},
   "source": [
    "### Now we output proposed treatments"
   ]
  },
  {
   "cell_type": "code",
   "execution_count": 10,
   "metadata": {},
   "outputs": [],
   "source": [
    "_, unique_indices = np.unique(dids, return_index=True)\n",
    "topk=100\n",
    "topk_indices = np.sort(unique_indices)[:topk]\n",
    "proposed_dids = dids[topk_indices]\n",
    "proposed_scores = scores[topk_indices]"
   ]
  },
  {
   "cell_type": "markdown",
   "metadata": {},
   "source": [
    "Now we list the pairs of in form of (drug, treat, disease, score) \n",
    "\n",
    "We select top K relevent drugs according the edge score"
   ]
  },
  {
   "cell_type": "code",
   "execution_count": 11,
   "metadata": {},
   "outputs": [
    {
     "name": "stdout",
     "output_type": "stream",
     "text": [
      "Compound::DB00811\t-0.21358221769332886\n",
      "Compound::DB00982\t-0.7457163333892822\n",
      "Compound::DB00928\t-0.8047788739204407\n",
      "Compound::DB01082\t-0.80478835105896\n",
      "Compound::DB00563\t-0.8762229681015015\n",
      "Compound::DB00635\t-0.8786484599113464\n",
      "Compound::DB00853\t-0.8897395133972168\n",
      "Compound::DB01001\t-0.89293372631073\n",
      "Compound::DB00681\t-0.9245818853378296\n",
      "Compound::DB00787\t-0.9289862513542175\n",
      "Compound::DB00290\t-0.9402258396148682\n",
      "Compound::DB00566\t-0.9544163942337036\n",
      "Compound::DB00860\t-0.9569648504257202\n",
      "Compound::DB00249\t-0.9634518027305603\n",
      "Compound::DB01099\t-0.9672449827194214\n",
      "Compound::DB01222\t-0.9871338605880737\n",
      "Compound::DB00993\t-0.9912917613983154\n",
      "Compound::DB00512\t-1.0083342790603638\n",
      "Compound::DB12510\t-1.0196998119354248\n",
      "Compound::DB00624\t-1.0209006071090698\n",
      "Compound::DB01024\t-1.0232834815979004\n",
      "Compound::DB01234\t-1.025983214378357\n",
      "Compound::DB01004\t-1.0309269428253174\n",
      "Compound::DB00688\t-1.03281569480896\n",
      "Compound::DB00091\t-1.0585496425628662\n",
      "Compound::DB00558\t-1.0633755922317505\n",
      "Compound::DB00331\t-1.0713732242584229\n",
      "Compound::DB00741\t-1.0851504802703857\n",
      "Compound::DB09140\t-1.0864732265472412\n",
      "Compound::DB00783\t-1.0877355337142944\n",
      "Compound::DB00552\t-1.0897188186645508\n",
      "Compound::DB01394\t-1.0996224880218506\n",
      "Compound::DB00131\t-1.1011534929275513\n",
      "Compound::DB11257\t-1.1017450094223022\n",
      "Compound::DB01212\t-1.1101065874099731\n",
      "Compound::DB00415\t-1.1111209392547607\n",
      "Compound::DB01043\t-1.1207247972488403\n",
      "Compound::DB00951\t-1.1219695806503296\n",
      "Compound::DB00115\t-1.1231274604797363\n",
      "Compound::DB00330\t-1.1312382221221924\n",
      "Compound::DB00709\t-1.1319327354431152\n",
      "Compound::DB00929\t-1.1348822116851807\n",
      "Compound::DB09157\t-1.1387275457382202\n",
      "Compound::DB00958\t-1.1413540840148926\n",
      "Compound::DB00684\t-1.142016887664795\n",
      "Compound::DB01035\t-1.1440136432647705\n",
      "Compound::DB00515\t-1.1458933353424072\n",
      "Compound::DB00755\t-1.1490178108215332\n",
      "Compound::DB01101\t-1.1493644714355469\n",
      "Compound::DB01183\t-1.1531314849853516\n",
      "Compound::DB02527\t-1.1566743850708008\n",
      "Compound::DB00959\t-1.157606840133667\n",
      "Compound::DB00620\t-1.1579325199127197\n",
      "Compound::DB01020\t-1.1605544090270996\n",
      "Compound::DB00591\t-1.1608378887176514\n",
      "Compound::DB00441\t-1.1630265712738037\n",
      "Compound::DB01093\t-1.166735291481018\n",
      "Compound::DB00994\t-1.1706290245056152\n",
      "Compound::DB00640\t-1.173480749130249\n",
      "Compound::DB00537\t-1.1750668287277222\n",
      "Compound::DB01240\t-1.188889980316162\n",
      "Compound::DB01073\t-1.189125418663025\n",
      "Compound::DB00437\t-1.1973258256912231\n",
      "Compound::DB00770\t-1.2011579275131226\n",
      "Compound::DB01656\t-1.2049915790557861\n",
      "Compound::DB09325\t-1.2050323486328125\n",
      "Compound::DB00945\t-1.217058777809143\n",
      "Compound::DB00328\t-1.2206952571868896\n",
      "Compound::DB01221\t-1.2216743230819702\n",
      "Compound::DB01068\t-1.224593162536621\n",
      "Compound::DB01373\t-1.2281001806259155\n",
      "Compound::DB00165\t-1.2290005683898926\n",
      "Compound::DB00819\t-1.2368168830871582\n",
      "Compound::DB00339\t-1.2439792156219482\n",
      "Compound::DB11588\t-1.2460048198699951\n",
      "Compound::DB00789\t-1.2462615966796875\n",
      "Compound::DB00198\t-1.2463655471801758\n",
      "Compound::DB00877\t-1.2526113986968994\n",
      "Compound::DB00848\t-1.2568012475967407\n",
      "Compound::DB11846\t-1.2571247816085815\n",
      "Compound::DB00479\t-1.2589473724365234\n",
      "Compound::DB01233\t-1.2609955072402954\n",
      "Compound::DB00571\t-1.2642171382904053\n",
      "Compound::DB01205\t-1.2649247646331787\n",
      "Compound::DB01137\t-1.278925895690918\n",
      "Compound::DB00171\t-1.2811017036437988\n",
      "Compound::DB01156\t-1.2823901176452637\n",
      "Compound::DB01181\t-1.285210132598877\n",
      "Compound::DB00763\t-1.286136269569397\n",
      "Compound::DB00716\t-1.2912558317184448\n",
      "Compound::DB00900\t-1.2932140827178955\n",
      "Compound::DB00355\t-1.2959039211273193\n",
      "Compound::DB01421\t-1.3020129203796387\n",
      "Compound::DB00630\t-1.3043475151062012\n",
      "Compound::DB01010\t-1.3047970533370972\n",
      "Compound::DB00396\t-1.3090475797653198\n",
      "Compound::DB00806\t-1.3104361295700073\n",
      "Compound::DB01592\t-1.3179962635040283\n",
      "Compound::DB00390\t-1.3223598003387451\n",
      "Compound::DB01011\t-1.324181318283081\n"
     ]
    }
   ],
   "source": [
    "for i in range(topk):\n",
    "    drug = int(proposed_dids[i])\n",
    "    score = proposed_scores[i]\n",
    "    \n",
    "    print(\"{}\\t{}\".format(entity_id_map[drug], score))"
   ]
  },
  {
   "cell_type": "markdown",
   "metadata": {},
   "source": [
    "### Check Clinial Trial Drugs\n",
    "There are seven clinial trial drugs hit in top100. (Note: Ribavirin exists in DRKG as a treatment for SARS) We provide the clinical trial drug list in COVID19\\_clinical\\_trial\\_drugs.tsv, but you can also refer to https://covid19-trials.com/."
   ]
  },
  {
   "cell_type": "code",
   "execution_count": 12,
   "metadata": {},
   "outputs": [
    {
     "name": "stdout",
     "output_type": "stream",
     "text": [
      "[0]Ribavirin\n",
      "[21]Dexamethasone\n",
      "[31]Colchicine\n",
      "[51]Methylprednisolone\n",
      "[76]Oseltamivir\n"
     ]
    }
   ],
   "source": [
    "clinical_drugs_file = './COVID19_clinical_trial_drugs.tsv'\n",
    "clinical_drug_map = {}\n",
    "with open(clinical_drugs_file, newline='', encoding='utf-8') as csvfile:\n",
    "    reader = csv.DictReader(csvfile, delimiter='\\t', fieldnames=['id', 'drug_name','drug_id'])\n",
    "    for row_val in reader:\n",
    "        clinical_drug_map[row_val['drug_id']] = row_val['drug_name']\n",
    "        \n",
    "for i in range(topk):\n",
    "    drug = entity_id_map[int(proposed_dids[i])][10:17]\n",
    "    if clinical_drug_map.get(drug, None) is not None:\n",
    "        score = proposed_scores[i]\n",
    "        print(\"[{}]{}\".format(i, clinical_drug_map[drug]))"
   ]
  }
 ],
 "metadata": {
  "kernelspec": {
   "display_name": "Python 3",
   "language": "python",
   "name": "python3"
  },
  "language_info": {
   "codemirror_mode": {
    "name": "ipython",
    "version": 3
   },
   "file_extension": ".py",
   "mimetype": "text/x-python",
   "name": "python",
   "nbconvert_exporter": "python",
   "pygments_lexer": "ipython3",
   "version": "3.7.6"
  }
 },
 "nbformat": 4,
 "nbformat_minor": 4
}
